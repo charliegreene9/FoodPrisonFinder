{
 "cells": [
  {
   "cell_type": "code",
   "execution_count": 18,
   "metadata": {},
   "outputs": [],
   "source": [
    "import pandas as pd\n",
    "import openpyxl\n",
    "import geopandas as gp\n",
    "import geopy\n",
    "import os\n",
    "from pathlib import Path\n",
    "import time\n",
    "import random"
   ]
  },
  {
   "cell_type": "code",
   "execution_count": 70,
   "metadata": {},
   "outputs": [
    {
     "data": {
      "text/html": [
       "<div>\n",
       "<style scoped>\n",
       "    .dataframe tbody tr th:only-of-type {\n",
       "        vertical-align: middle;\n",
       "    }\n",
       "\n",
       "    .dataframe tbody tr th {\n",
       "        vertical-align: top;\n",
       "    }\n",
       "\n",
       "    .dataframe thead th {\n",
       "        text-align: right;\n",
       "    }\n",
       "</style>\n",
       "<table border=\"1\" class=\"dataframe\">\n",
       "  <thead>\n",
       "    <tr style=\"text-align: right;\">\n",
       "      <th></th>\n",
       "      <th>Brand</th>\n",
       "      <th>Name</th>\n",
       "      <th>Address</th>\n",
       "      <th>Open_time</th>\n",
       "      <th>Close_time</th>\n",
       "    </tr>\n",
       "  </thead>\n",
       "  <tbody>\n",
       "    <tr>\n",
       "      <th>0</th>\n",
       "      <td>FEBO</td>\n",
       "      <td>FEBO Reguliersbreestraat Amsterdam</td>\n",
       "      <td>Reguliersbreestraat 38 1017 CN Amsterdam</td>\n",
       "      <td>{“Maandag”: “11:00”, “Dinsdag”: “11:00”, “Woen...</td>\n",
       "      <td>{“Maandag”: “3:00”, “Dinsdag”: “3:00”, “Woensd...</td>\n",
       "    </tr>\n",
       "    <tr>\n",
       "      <th>1</th>\n",
       "      <td>FEBO</td>\n",
       "      <td>FEBO Hoofddorp</td>\n",
       "      <td>Marktplein 220 2132 CW Hoofddorp</td>\n",
       "      <td>NaN</td>\n",
       "      <td>NaN</td>\n",
       "    </tr>\n",
       "    <tr>\n",
       "      <th>2</th>\n",
       "      <td>FEBO</td>\n",
       "      <td>FEBO Diagonaal Almere</td>\n",
       "      <td>De Diagonaal 26 1315 XE Almere</td>\n",
       "      <td>NaN</td>\n",
       "      <td>NaN</td>\n",
       "    </tr>\n",
       "    <tr>\n",
       "      <th>3</th>\n",
       "      <td>FEBO</td>\n",
       "      <td>FEBO Almere-Buiten</td>\n",
       "      <td>Noordeinde 176 1334 BR Almere</td>\n",
       "      <td>NaN</td>\n",
       "      <td>NaN</td>\n",
       "    </tr>\n",
       "    <tr>\n",
       "      <th>4</th>\n",
       "      <td>FEBO</td>\n",
       "      <td>FEBO Amersfoort</td>\n",
       "      <td>Langestraat 84 3811 AK Amersfoort</td>\n",
       "      <td>NaN</td>\n",
       "      <td>NaN</td>\n",
       "    </tr>\n",
       "  </tbody>\n",
       "</table>\n",
       "</div>"
      ],
      "text/plain": [
       "  Brand                                Name  \\\n",
       "0  FEBO  FEBO Reguliersbreestraat Amsterdam   \n",
       "1  FEBO                      FEBO Hoofddorp   \n",
       "2  FEBO               FEBO Diagonaal Almere   \n",
       "3  FEBO                  FEBO Almere-Buiten   \n",
       "4  FEBO                     FEBO Amersfoort   \n",
       "\n",
       "                                     Address  \\\n",
       "0  Reguliersbreestraat 38 1017 CN Amsterdam    \n",
       "1          Marktplein 220 2132 CW Hoofddorp    \n",
       "2            De Diagonaal 26 1315 XE Almere    \n",
       "3             Noordeinde 176 1334 BR Almere    \n",
       "4         Langestraat 84 3811 AK Amersfoort    \n",
       "\n",
       "                                           Open_time  \\\n",
       "0  {“Maandag”: “11:00”, “Dinsdag”: “11:00”, “Woen...   \n",
       "1                                                NaN   \n",
       "2                                                NaN   \n",
       "3                                                NaN   \n",
       "4                                                NaN   \n",
       "\n",
       "                                          Close_time  \n",
       "0  {“Maandag”: “3:00”, “Dinsdag”: “3:00”, “Woensd...  \n",
       "1                                                NaN  \n",
       "2                                                NaN  \n",
       "3                                                NaN  \n",
       "4                                                NaN  "
      ]
     },
     "execution_count": 70,
     "metadata": {},
     "output_type": "execute_result"
    }
   ],
   "source": [
    "df = pd.read_excel(Path(os.getcwd(), \"Assets\", \"Data\", \"locations.xlsx\"))\n",
    "df.head()"
   ]
  },
  {
   "cell_type": "code",
   "execution_count": 71,
   "metadata": {},
   "outputs": [
    {
     "name": "stdout",
     "output_type": "stream",
     "text": [
      "{'place_id': 144018272, 'licence': 'Data © OpenStreetMap contributors, ODbL 1.0. http://osm.org/copyright', 'osm_type': 'node', 'osm_id': 1719407868, 'lat': '52.3663683', 'lon': '4.8951869', 'class': 'amenity', 'type': 'fast_food', 'place_rank': 30, 'importance': 8.268177309829888e-05, 'addresstype': 'amenity', 'name': 'FEBO', 'display_name': 'FEBO, 38, Reguliersbreestraat, Grachtengordel, Centrum, Amsterdam, Noord-Holland, Nederland, 1017 CN, Nederland', 'boundingbox': ['52.3663183', '52.3664183', '4.8951369', '4.8952369']}\n"
     ]
    }
   ],
   "source": [
    "# Geocoding\n",
    "geolocator = geopy.geocoders.Nominatim(user_agent=\"test\")\n",
    "location = geolocator.geocode(df.Address.iloc[0])\n",
    "print(location.raw)"
   ]
  },
  {
   "cell_type": "code",
   "execution_count": 73,
   "metadata": {
    "vscode": {
     "languageId": "ruby"
    }
   },
   "outputs": [
    {
     "name": "stdout",
     "output_type": "stream",
     "text": [
      "Arenaboulevard 135 1101 EJ Amsterdam \n",
      "Buikslotermeerplein 54 1025 EW Amsterdam \n",
      "Rijksweg 2 5314 LJ Bruchem \n",
      "Tijnmuiden 53 unit A1a 1046 AK Amsterdam \n",
      "ein 45E Amsterdam \n",
      "File saved.\n"
     ]
    }
   ],
   "source": [
    "proj_name = \"FoodPrisonFinder\"\n",
    "\n",
    "def get_coords(row, geo_agent):\n",
    "    time.sleep(random.random() * 2)\n",
    "    try:\n",
    "        location = geo_agent.geocode(row[\"Address\"]).raw\n",
    "        row[\"y\"] = location['lat']\n",
    "        row[\"x\"] = location['lon']\n",
    "    except: # UnboundLocalError or AttributeError:\n",
    "        print(row[\"Address\"])\n",
    "        row[\"y\"] = 0 \n",
    "        row[\"x\"] = 0 #TODO: fix to remove \n",
    "\n",
    "    return row\n",
    "\n",
    "def address_to_geojson(df: pd.DataFrame, save_name: str = \"\", in_coord_sys: str = \"EPSG:4326\", out_coord_sys: str = \"EPSG:4326\"):\n",
    "    # Make geo agent and then apply geocode fn\n",
    "    geo_agent = geopy.geocoders.Nominatim(user_agent = proj_name)\n",
    "    df = df.apply(lambda x: get_coords(x, geo_agent), axis = 1)\n",
    "    # Convert to geodataframe and then export in GeoJson format\n",
    "    gdf = gp.GeoDataFrame(\n",
    "    df, geometry=gp.points_from_xy(df.x, df.y), crs = in_coord_sys)\n",
    "    gdf.to_file(save_name, driver=\"GeoJSON\") \n",
    "    print(\"File saved.\")\n",
    "    return gdf\n",
    "\n",
    "gdf = address_to_geojson(df, \"locations.json\")\n"
   ]
  },
  {
   "cell_type": "code",
   "execution_count": 33,
   "metadata": {},
   "outputs": [],
   "source": [
    "gdf.to_file(\"locations\", driver=\"GeoJSON\") "
   ]
  },
  {
   "cell_type": "code",
   "execution_count": 35,
   "metadata": {},
   "outputs": [
    {
     "data": {
      "text/plain": [
       "'Vrijdag'"
      ]
     },
     "execution_count": 35,
     "metadata": {},
     "output_type": "execute_result"
    }
   ],
   "source": [
    "import datetime as dt \n",
    "days = {0:\"Maandag\", 1:\"Dinsdag\", 2:\"Woensdag\", 3:\"Donderdag\", 4:\"Vrijdag\", 5:\"Zaterdag\", 6:\"Zondag\"}\n",
    "days[dt.datetime.today().weekday()]"
   ]
  },
  {
   "cell_type": "code",
   "execution_count": 74,
   "metadata": {},
   "outputs": [
    {
     "name": "stdout",
     "output_type": "stream",
     "text": [
      "Closed champ\n"
     ]
    }
   ],
   "source": [
    "now = dt.datetime.now() - dt.timedelta(hours=5)\n",
    "now = now.time()\n",
    "closing = dt.datetime.strptime(\"00:00\", \"%H:%M\").time()\n",
    "opening = dt.datetime.strptime(\"11:00\", \"%H:%M\").time()\n",
    "if now < closing:\n",
    "    print(\"Still open!\")\n",
    "elif now > closing:\n",
    "    print(\"Closed champ\")"
   ]
  },
  {
   "cell_type": "code",
   "execution_count": 61,
   "metadata": {},
   "outputs": [
    {
     "name": "stdout",
     "output_type": "stream",
     "text": [
      "19:01:41.278872 3:58:18.721128\n"
     ]
    }
   ],
   "source": [
    "time_left = dt.datetime.combine(dt.date.min, closing) - dt.datetime.combine(dt.date.min, now)\n",
    "# time_left += dt.timedelta(days=1)\n",
    "print(now, time_left)"
   ]
  },
  {
   "cell_type": "code",
   "execution_count": 69,
   "metadata": {},
   "outputs": [
    {
     "name": "stdout",
     "output_type": "stream",
     "text": [
      "yyy\n"
     ]
    }
   ],
   "source": [
    "if time_left <= dt.timedelta(minutes = 20):\n",
    "    print(\"y\")\n",
    "elif dt.timedelta(hours = 1) > time_left > dt.timedelta(minutes = 20):\n",
    "    print(\"yy\")\n",
    "elif time_left > dt.timedelta(hours = 1):\n",
    "    print(\"yyy\")"
   ]
  },
  {
   "cell_type": "code",
   "execution_count": null,
   "metadata": {},
   "outputs": [],
   "source": []
  }
 ],
 "metadata": {
  "kernelspec": {
   "display_name": "venv",
   "language": "python",
   "name": "python3"
  },
  "language_info": {
   "codemirror_mode": {
    "name": "ipython",
    "version": 3
   },
   "file_extension": ".py",
   "mimetype": "text/x-python",
   "name": "python",
   "nbconvert_exporter": "python",
   "pygments_lexer": "ipython3",
   "version": "3.13.3"
  }
 },
 "nbformat": 4,
 "nbformat_minor": 2
}
