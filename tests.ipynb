{
 "cells": [
  {
   "cell_type": "code",
   "execution_count": 6,
   "metadata": {},
   "outputs": [],
   "source": [
    "import pandas as pd\n",
    "import openpyxl\n",
    "import geopandas as gp\n",
    "import geopy\n",
    "import os\n",
    "from pathlib import Path"
   ]
  },
  {
   "cell_type": "code",
   "execution_count": 7,
   "metadata": {},
   "outputs": [
    {
     "data": {
      "text/html": [
       "<div>\n",
       "<style scoped>\n",
       "    .dataframe tbody tr th:only-of-type {\n",
       "        vertical-align: middle;\n",
       "    }\n",
       "\n",
       "    .dataframe tbody tr th {\n",
       "        vertical-align: top;\n",
       "    }\n",
       "\n",
       "    .dataframe thead th {\n",
       "        text-align: right;\n",
       "    }\n",
       "</style>\n",
       "<table border=\"1\" class=\"dataframe\">\n",
       "  <thead>\n",
       "    <tr style=\"text-align: right;\">\n",
       "      <th></th>\n",
       "      <th>Brand</th>\n",
       "      <th>Name</th>\n",
       "      <th>Address</th>\n",
       "      <th>Open_time</th>\n",
       "      <th>Close_time</th>\n",
       "    </tr>\n",
       "  </thead>\n",
       "  <tbody>\n",
       "    <tr>\n",
       "      <th>0</th>\n",
       "      <td>FEBO</td>\n",
       "      <td>FEBO Reguliersbreestraat Amsterdam</td>\n",
       "      <td>Reguliersbreestraat 38 1017 CN Amsterdam</td>\n",
       "      <td>{“Maandag”: “11:00”, “Dinsdag”: “11:00”, “Woen...</td>\n",
       "      <td>{“Maandag”: “3:00”, “Dinsdag”: “3:00”, “Woensd...</td>\n",
       "    </tr>\n",
       "    <tr>\n",
       "      <th>1</th>\n",
       "      <td>FEBO</td>\n",
       "      <td>FEBO Hoofddorp</td>\n",
       "      <td>Marktplein 220 2132 CW Hoofddorp</td>\n",
       "      <td>NaN</td>\n",
       "      <td>NaN</td>\n",
       "    </tr>\n",
       "    <tr>\n",
       "      <th>2</th>\n",
       "      <td>FEBO</td>\n",
       "      <td>FEBO Diagonaal Almere</td>\n",
       "      <td>De Diagonaal 26 1315 XE Almere</td>\n",
       "      <td>NaN</td>\n",
       "      <td>NaN</td>\n",
       "    </tr>\n",
       "    <tr>\n",
       "      <th>3</th>\n",
       "      <td>FEBO</td>\n",
       "      <td>FEBO Almere-Buiten</td>\n",
       "      <td>Noordeinde 176 1334 BR Almere</td>\n",
       "      <td>NaN</td>\n",
       "      <td>NaN</td>\n",
       "    </tr>\n",
       "    <tr>\n",
       "      <th>4</th>\n",
       "      <td>FEBO</td>\n",
       "      <td>FEBO Amersfoort</td>\n",
       "      <td>Langestraat 84 3811 AK Amersfoort</td>\n",
       "      <td>NaN</td>\n",
       "      <td>NaN</td>\n",
       "    </tr>\n",
       "  </tbody>\n",
       "</table>\n",
       "</div>"
      ],
      "text/plain": [
       "  Brand                                Name  \\\n",
       "0  FEBO  FEBO Reguliersbreestraat Amsterdam   \n",
       "1  FEBO                      FEBO Hoofddorp   \n",
       "2  FEBO               FEBO Diagonaal Almere   \n",
       "3  FEBO                  FEBO Almere-Buiten   \n",
       "4  FEBO                     FEBO Amersfoort   \n",
       "\n",
       "                                     Address  \\\n",
       "0  Reguliersbreestraat 38 1017 CN Amsterdam    \n",
       "1          Marktplein 220 2132 CW Hoofddorp    \n",
       "2            De Diagonaal 26 1315 XE Almere    \n",
       "3             Noordeinde 176 1334 BR Almere    \n",
       "4         Langestraat 84 3811 AK Amersfoort    \n",
       "\n",
       "                                           Open_time  \\\n",
       "0  {“Maandag”: “11:00”, “Dinsdag”: “11:00”, “Woen...   \n",
       "1                                                NaN   \n",
       "2                                                NaN   \n",
       "3                                                NaN   \n",
       "4                                                NaN   \n",
       "\n",
       "                                          Close_time  \n",
       "0  {“Maandag”: “3:00”, “Dinsdag”: “3:00”, “Woensd...  \n",
       "1                                                NaN  \n",
       "2                                                NaN  \n",
       "3                                                NaN  \n",
       "4                                                NaN  "
      ]
     },
     "execution_count": 7,
     "metadata": {},
     "output_type": "execute_result"
    }
   ],
   "source": [
    "df = pd.read_excel(Path(os.getcwd(), \"Assets\", \"Data\", \"locations.xlsx\"))\n",
    "df.head()"
   ]
  },
  {
   "cell_type": "code",
   "execution_count": 8,
   "metadata": {},
   "outputs": [
    {
     "name": "stdout",
     "output_type": "stream",
     "text": [
      "{'place_id': 144018272, 'licence': 'Data © OpenStreetMap contributors, ODbL 1.0. http://osm.org/copyright', 'osm_type': 'node', 'osm_id': 1719407868, 'lat': '52.3663683', 'lon': '4.8951869', 'class': 'amenity', 'type': 'fast_food', 'place_rank': 30, 'importance': 8.268177309829888e-05, 'addresstype': 'amenity', 'name': 'FEBO', 'display_name': 'FEBO, 38, Reguliersbreestraat, Grachtengordel, Centrum, Amsterdam, Noord-Holland, Nederland, 1017 CN, Nederland', 'boundingbox': ['52.3663183', '52.3664183', '4.8951369', '4.8952369']}\n"
     ]
    }
   ],
   "source": [
    "# Geocoding\n",
    "geolocator = geopy.geocoders.Nominatim(user_agent=\"test\")\n",
    "location = geolocator.geocode(df.Address.iloc[0])\n",
    "print(location.raw)"
   ]
  },
  {
   "cell_type": "code",
   "execution_count": null,
   "metadata": {
    "vscode": {
     "languageId": "ruby"
    }
   },
   "outputs": [
    {
     "data": {
      "text/plain": [
       "'52.3663683'"
      ]
     },
     "execution_count": 11,
     "metadata": {},
     "output_type": "execute_result"
    }
   ],
   "source": [
    "proj_name = FoodPrisonFinder\n",
    "\n",
    "def get_coords(row, geo_agent):\n",
    "    location = geo_agent.geocode(row[\"Address\"]).raw\n",
    "    row[\"y\"] = location.raw['lat']\n",
    "    row[\"x\"] = location.raw['long']\n",
    "    return row\n",
    "\n",
    "def address_to_geojson(df: pd.DataFrame, save_name: str, in_coord_sys: str = \"EPSG:4326\", out_coord_sys: str = \"EPSG:4326\"):\n",
    "    # Make geo agent and then apply geocode fn\n",
    "    geo_agent = geopy.geocoders.Nominatim(user_agent = proj_name)\n",
    "    df = df.apply(lambda x: get_coords(x, geo_agent))\n",
    "    # Convert to geodataframe and then export in GeoJson format\n",
    "    gdf = geopandas.GeoDataFrame(\n",
    "    df, geometry=geopandas.points_from_xy(df.x, df.y), crs = in_coord_sys)\n",
    "    gdf.to_json()\n",
    "    print(\"File saved.\")\n"
   ]
  },
  {
   "cell_type": "code",
   "execution_count": null,
   "metadata": {},
   "outputs": [],
   "source": []
  }
 ],
 "metadata": {
  "kernelspec": {
   "display_name": "venv",
   "language": "python",
   "name": "python3"
  },
  "language_info": {
   "codemirror_mode": {
    "name": "ipython",
    "version": 3
   },
   "file_extension": ".py",
   "mimetype": "text/x-python",
   "name": "python",
   "nbconvert_exporter": "python",
   "pygments_lexer": "ipython3",
   "version": "3.13.3"
  }
 },
 "nbformat": 4,
 "nbformat_minor": 2
}
